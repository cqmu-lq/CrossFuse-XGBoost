{
 "cells": [
  {
   "cell_type": "markdown",
   "id": "ec3372a5-3aa3-407b-b0ac-ef73302b3fcb",
   "metadata": {},
   "source": [
    "# ADMETlab2.0 task autocommit\n",
    "This code automates the submission of SMILES data to ___ADMETlab2.0___ for predictive analysis, resulting in a significant enhancement to the usability and scalability of the ___CrossFuse-XGBoost___ model."
   ]
  },
  {
   "cell_type": "code",
   "execution_count": 13,
   "id": "77da1c85-6081-4690-aa3f-2397657b6f65",
   "metadata": {
    "tags": []
   },
   "outputs": [],
   "source": [
    "import requests\n",
    "from bs4 import BeautifulSoup\n",
    "import pandas as pd"
   ]
  },
  {
   "cell_type": "markdown",
   "id": "873c6e74-33e2-4ea5-b09e-f38acd1af46c",
   "metadata": {},
   "source": [
    "## 1. Get CSRF token"
   ]
  },
  {
   "cell_type": "code",
   "execution_count": 12,
   "id": "2c38b64e-95b6-4bd7-a01c-867ab9160260",
   "metadata": {
    "tags": []
   },
   "outputs": [],
   "source": [
    "index_file = \"ADMETlab_output/admet2_index.html\"\n",
    "url = \"https://admetmesh.scbdd.com/service/evaluation/index\""
   ]
  },
  {
   "cell_type": "code",
   "execution_count": 8,
   "id": "af74e962-453c-4a13-9768-fa5bbd6f7d5a",
   "metadata": {
    "tags": []
   },
   "outputs": [],
   "source": [
    "# Send RPC (remote procedure call) command to ADMETlab2.0 and put down its response in a file.\n",
    "index_response = requests.get(url)\n",
    "with open(\"admet2_index.html\", 'w+', encoding='utf-8') as wt:\n",
    "    wt.writelines(index_response.text)"
   ]
  },
  {
   "cell_type": "code",
   "execution_count": 9,
   "id": "179c286e-8eaf-4b22-8df6-ed87c6a86742",
   "metadata": {
    "tags": []
   },
   "outputs": [],
   "source": [
    "# Parse tokens returned by ADMETLab2.0 server.\n",
    "with open(index_file, 'r+', encoding='utf-8') as f:\n",
    "    content = f.read()\n",
    "soup = BeautifulSoup(content, 'html.parser')\n",
    "csrf_token_input = soup.find_all('input', {\"name\": \"csrfmiddlewaretoken\"})\n",
    "csrf_token = csrf_token_input[0]['value']"
   ]
  },
  {
   "cell_type": "markdown",
   "id": "3a5e1a99-dd73-4159-81f2-1bb62083623f",
   "metadata": {
    "tags": []
   },
   "source": [
    "## 2. Submit task to _ADMETlab2.0_"
   ]
  },
  {
   "cell_type": "code",
   "execution_count": 9,
   "id": "cd947807-fce7-46c3-ac59-54ed514ca5fa",
   "metadata": {
    "tags": []
   },
   "outputs": [],
   "source": [
    "in_smiles = \"CC(C)OC(=O)CC(=O)CSC1=C(C=C2CCCC2=N1)C#N\""
   ]
  },
  {
   "cell_type": "code",
   "execution_count": 10,
   "id": "f4179b89-535f-4a14-911e-3188ca9466fa",
   "metadata": {
    "tags": []
   },
   "outputs": [],
   "source": [
    "# Get ADMET features for given compounds from ADMETlab2.0 server via RPC.\n",
    "headers = {\n",
    "    'Accept': 'text/html,application/xhtml+xml,application/xml;q=0.9,image/webp,image/apng,*/*;q=0.8,application/signed-exchange;v=b3;q=0.9'\n",
    "    , 'Accept-Encoding': 'gzip, deflate, br'\n",
    "    , 'Accept-Language': 'zh-CN,zh;q=0.9,en;q=0.8,en-GB;q=0.7,en-US;q=0.6'\n",
    "    , 'Content-Type': 'application/x-www-form-urlencoded'\n",
    "    , 'Cookie': 'csrftoken=' + csrf_token\n",
    "    , 'Host': 'admetmesh.scbdd.com'\n",
    "    , 'Origin': 'https://admetmesh.scbdd.com'\n",
    "    , 'Referer': 'https://admetmesh.scbdd.com/service/evaluation/index'\n",
    "    , 'sec-ch-ua': '\" Not A;Brand\";v=\"99\", \"Chromium\";v=\"102\", \"Microsoft Edge\";v=\"102\"'\n",
    "    , 'sec-ch-ua-mobile': '?1'\n",
    "    , 'sec-ch-ua-platform': \"Windows\"\n",
    "    , 'Sec-Fetch-Dest': 'document'\n",
    "    , 'Sec-Fetch-Mode': 'navigate'\n",
    "    , 'Sec-Fetch-Site': 'same-origin'\n",
    "    , 'Sec-Fetch-User': '?1'\n",
    "    , 'Upgrade-Insecure-Requests': '1'\n",
    "    ,\n",
    "    'User-Agent': 'Mozilla/5.0 (Windows NT 10.0; Win64; x64) AppleWebKit/537.36 (KHTML, like Gecko) Chrome/102.0.0.0 Safari/537.36'\n",
    "    }\n",
    "params = {'csrfmiddlewaretoken': csrf_token, 'smiles': in_smiles, 'method': '1'}\n",
    "response = requests.post(\"https://admetmesh.scbdd.com/service/evaluation/cal\", headers=headers, data=params)\n",
    "admet2_res_file = 'ADMETlab_output/admet2_res_file.html'\n",
    "with open(admet2_res_file, 'w+', encoding='utf-8') as wt:\n",
    "    wt.writelines(response.text)"
   ]
  },
  {
   "cell_type": "code",
   "execution_count": 12,
   "id": "b96be4de-23b8-4b81-b281-e5857ee5a615",
   "metadata": {
    "tags": []
   },
   "outputs": [],
   "source": [
    "with open(admet2_res_file, 'r+', encoding='utf-8') as f:\n",
    "    res_html = f.read()\n",
    "res_soup = BeautifulSoup(res_html, 'html.parser')"
   ]
  },
  {
   "cell_type": "code",
   "execution_count": 13,
   "id": "cbfc6f63-cb9c-4a54-8fc0-fbbd19484aa1",
   "metadata": {
    "tags": []
   },
   "outputs": [],
   "source": [
    "for i in res_soup.find_all('a', attrs={\"style\": \"text-decoration: none;\"}):\n",
    "    i_href = i['href']\n",
    "    if i_href.startswith('/static/files/'):\n",
    "        print(i_href)\n",
    "        break\n",
    "download_href = \"https://admetmesh.scbdd.com\" + i_href\n",
    "down_response = requests.get(download_href)"
   ]
  },
  {
   "cell_type": "code",
   "execution_count": 13,
   "id": "b1305263-2151-4efb-ade6-976990fec66b",
   "metadata": {
    "tags": []
   },
   "outputs": [
    {
     "name": "stdout",
     "output_type": "stream",
     "text": [
      "/static/files/evaluation/result/tmp/tmpy53iwts41695719845.csv\n"
     ]
    }
   ],
   "source": [
    "admet2_csv_file = \"ADMETlab_output/admet2_res_file.csv\"\n",
    "with open(admet2_csv_file, 'w+', encoding='utf-8') as wt:\n",
    "    wt.writelines(down_response.text)"
   ]
  },
  {
   "cell_type": "markdown",
   "id": "5e7e29bf-9245-4812-ad4a-8812418a6ee8",
   "metadata": {
    "tags": []
   },
   "source": [
    "## 3. Display obtained ADMET features"
   ]
  },
  {
   "cell_type": "code",
   "execution_count": 15,
   "id": "73ffe0e4-237f-45c9-aad5-38b785238211",
   "metadata": {
    "tags": []
   },
   "outputs": [
    {
     "data": {
      "text/html": [
       "<div>\n",
       "<style scoped>\n",
       "    .dataframe tbody tr th:only-of-type {\n",
       "        vertical-align: middle;\n",
       "    }\n",
       "\n",
       "    .dataframe tbody tr th {\n",
       "        vertical-align: top;\n",
       "    }\n",
       "\n",
       "    .dataframe thead th {\n",
       "        text-align: right;\n",
       "    }\n",
       "</style>\n",
       "<table border=\"1\" class=\"dataframe\">\n",
       "  <thead>\n",
       "    <tr style=\"text-align: right;\">\n",
       "      <th></th>\n",
       "      <th>smiles</th>\n",
       "      <th>LogS</th>\n",
       "      <th>LogD</th>\n",
       "      <th>LogP</th>\n",
       "      <th>Pgp-inh</th>\n",
       "      <th>Pgp-sub</th>\n",
       "      <th>HIA</th>\n",
       "      <th>F(20%)</th>\n",
       "      <th>F(30%)</th>\n",
       "      <th>Caco-2</th>\n",
       "      <th>...</th>\n",
       "      <th>MCE-18</th>\n",
       "      <th>Natural Product-likeness</th>\n",
       "      <th>Alarm_NMR</th>\n",
       "      <th>BMS</th>\n",
       "      <th>Chelating</th>\n",
       "      <th>PAINS</th>\n",
       "      <th>Lipinski</th>\n",
       "      <th>Pfizer</th>\n",
       "      <th>GSK</th>\n",
       "      <th>GoldenTriangle</th>\n",
       "    </tr>\n",
       "  </thead>\n",
       "  <tbody>\n",
       "    <tr>\n",
       "      <th>0</th>\n",
       "      <td>CC(C)OC(=O)CC(=O)CSC1=C(C=C2CCCC2=N1)C#N</td>\n",
       "      <td>-3.958</td>\n",
       "      <td>2.247</td>\n",
       "      <td>2.385</td>\n",
       "      <td>0.815</td>\n",
       "      <td>0.003</td>\n",
       "      <td>0.005</td>\n",
       "      <td>0.004</td>\n",
       "      <td>0.008</td>\n",
       "      <td>-4.694</td>\n",
       "      <td>...</td>\n",
       "      <td>29.25</td>\n",
       "      <td>-1.447</td>\n",
       "      <td>2</td>\n",
       "      <td>0</td>\n",
       "      <td>0</td>\n",
       "      <td>0</td>\n",
       "      <td>Accepted</td>\n",
       "      <td>Accepted</td>\n",
       "      <td>Accepted</td>\n",
       "      <td>Accepted</td>\n",
       "    </tr>\n",
       "  </tbody>\n",
       "</table>\n",
       "<p>1 rows × 89 columns</p>\n",
       "</div>"
      ],
      "text/plain": [
       "                                     smiles   LogS   LogD   LogP  Pgp-inh  \\\n",
       "0  CC(C)OC(=O)CC(=O)CSC1=C(C=C2CCCC2=N1)C#N -3.958  2.247  2.385    0.815   \n",
       "\n",
       "   Pgp-sub    HIA  F(20%)  F(30%)  Caco-2  ...  MCE-18  \\\n",
       "0    0.003  0.005   0.004   0.008  -4.694  ...   29.25   \n",
       "\n",
       "   Natural Product-likeness Alarm_NMR  BMS Chelating  PAINS  Lipinski  \\\n",
       "0                    -1.447         2    0         0      0  Accepted   \n",
       "\n",
       "     Pfizer       GSK  GoldenTriangle  \n",
       "0  Accepted  Accepted        Accepted  \n",
       "\n",
       "[1 rows x 89 columns]"
      ]
     },
     "execution_count": 15,
     "metadata": {},
     "output_type": "execute_result"
    }
   ],
   "source": [
    "in_admet2_df = pd.read_csv(admet2_csv_file)\n",
    "in_admet2_df.head()"
   ]
  }
 ],
 "metadata": {
  "kernelspec": {
   "display_name": "py38_lq",
   "language": "python",
   "name": "py38_lq"
  },
  "language_info": {
   "codemirror_mode": {
    "name": "ipython",
    "version": 3
   },
   "file_extension": ".py",
   "mimetype": "text/x-python",
   "name": "python",
   "nbconvert_exporter": "python",
   "pygments_lexer": "ipython3",
   "version": "3.8.13"
  }
 },
 "nbformat": 4,
 "nbformat_minor": 5
}
