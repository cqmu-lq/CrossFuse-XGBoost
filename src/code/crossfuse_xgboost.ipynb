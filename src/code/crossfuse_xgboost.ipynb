{
 "cells": [
  {
   "cell_type": "markdown",
   "id": "fbb87005",
   "metadata": {},
   "source": [
    "# CrossFuse-XGBoost\n",
    "\n",
    "CrossFuse-XGBoost is a maximum recommended daily dose (MRDD) predictor for new drugs, especially for the drug in the first-in-human (FIH) trial. It achieves a high prediciton accuracy by using technqiues like multifeature fusion, cross-validation screening and extreme gradient boosting.\n",
    "\n",
    "To leverage ___CrossFuse-XGBoost___, one can refer to the following sample program."
   ]
  },
  {
   "cell_type": "markdown",
   "id": "2b7fcc99-bc0f-4896-a37a-4b83b5c77fad",
   "metadata": {},
   "source": [
    " ## 1. Configure environment "
   ]
  },
  {
   "cell_type": "code",
   "execution_count": null,
   "id": "0ab5003d",
   "metadata": {},
   "outputs": [],
   "source": [
    "import pandas as pd\n",
    "import numpy as np\n",
    "import time\n",
    "from xgboost import XGBRegressor,XGBClassifier\n",
    "import ml_methods as mm\n",
    "import importlib as imp\n",
    "imp.reload(mm)"
   ]
  },
  {
   "cell_type": "code",
   "execution_count": 2,
   "id": "c531b912-b583-4849-b360-8a9bdde00bbf",
   "metadata": {
    "tags": []
   },
   "outputs": [],
   "source": [
    "# Basic variable definition\n",
    "data_path = '../data/'"
   ]
  },
  {
   "cell_type": "markdown",
   "id": "2ccd4e75-92f4-443c-b872-e7c60785ea66",
   "metadata": {},
   "source": [
    "## 2. Feature assembly"
   ]
  },
  {
   "cell_type": "markdown",
   "id": "19f32bb1",
   "metadata": {},
   "source": [
    "### • Load data"
   ]
  },
  {
   "cell_type": "code",
   "execution_count": 4,
   "id": "27ebac15-ddd5-4853-b37d-909b396f2b6d",
   "metadata": {},
   "outputs": [],
   "source": [
    "con_df_path = '{}/training_set.pkl'.format(data_path)\n",
    "con_df = pd.read_pickle(con_df_path)"
   ]
  },
  {
   "cell_type": "markdown",
   "id": "3b9a0326-e610-489d-a620-beba705ad996",
   "metadata": {},
   "source": [
    " ### • Construct feature vectors (X) using the appropriate feature combination."
   ]
  },
  {
   "cell_type": "code",
   "execution_count": 5,
   "id": "7201dc0e-6347-4b72-be77-f9770f37bbbe",
   "metadata": {},
   "outputs": [],
   "source": [
    "X_all=con_df.iloc[:,7:32905]"
   ]
  },
  {
   "cell_type": "code",
   "execution_count": 6,
   "id": "84adf26c-3c94-4feb-b2f9-740da963c340",
   "metadata": {
    "tags": []
   },
   "outputs": [],
   "source": [
    "\"\"\"data splitting\"\"\"\n",
    "# Features included in the data：admet2_list, stitch_list, targets_list, circul_list, maccsk_list, pubchem_list, \n",
    "#                              rdkit_list,md_list, avail_cal_list, cmax_ld50_list,dose_cal_list,e3fp_list,ctd_list\n",
    "\n",
    "# ADMET2 data, [:,7:95], 88 columns\n",
    "admet2_list=list(range(0,88))\n",
    "X_admet2=X_all.iloc[:,admet2_list]\n",
    "\n",
    "# STITCH data, [:, 88:17001], 16913 columns\n",
    "stitch_list=list(range(88,17001))\n",
    "X_stitch=X_all.iloc[:,stitch_list]\n",
    "\n",
    "# DrugBank data, [:, 17001:18534], 1533 columns\n",
    "targets_list=list(range(17001,18534))\n",
    "X_targets=X_all.iloc[:,targets_list]\n",
    "\n",
    "# CircularFingerprint, [:, 18534:19134 ], 600 columns\n",
    "circul_list=list(range(18534,19134))\n",
    "X_circul=X_all.iloc[:,circul_list]\n",
    "\n",
    "# MACCSKeysFingerprint，[:, 19134:19301 ], 167 columns\n",
    "maccsk_list=list(range(19134,19301))\n",
    "X_maccsk=X_all.iloc[:,maccsk_list]\n",
    "\n",
    "# PubChemFingerprint，[:, 19301:20182 ], 881 columns\n",
    "pubchem_list=list(range(19301,20182))\n",
    "X_pubchem=X_all.iloc[:,pubchem_list]\n",
    "\n",
    "# RDKitDescriptors，[:, 20182:20390 ], 208 columns\n",
    "rdkit_list=list(range(20182,20390))\n",
    "X_rdkit=X_all.iloc[:,rdkit_list]\n",
    "\n",
    "# MordredDescriptors，[:, 20390:22003 ], 1613 columns\n",
    "md_list=list(range(20390,22003))\n",
    "X_md=X_all.iloc[:,md_list]\n",
    "\n",
    "# Bioavailability data, [:, 22003:22005 ], 2 columns\n",
    "avail_cal_list=list(range(22003,22005))\n",
    "X_avail=X_all.iloc[:,avail_cal_list]\n",
    "\n",
    "# Cmax and LD50, [:, 22005:22007 ], 2 columns\n",
    "cmax_ld50_list=list(range(22005,22007))\n",
    "X_cmax_ld50=X_all.iloc[:,cmax_ld50_list]\n",
    "\n",
    "# Feature derived data, [:, 22007:22010 ], 3 columns\n",
    "dose_cal_list=list(range(22007,22010))\n",
    "X_dose_cal=X_all.iloc[:,dose_cal_list]\n",
    "\n",
    "# E3fpFingerprint, [:, 22010:26106 ], 4096 columns\n",
    "e3fp_list=list(range(22010,26106))\n",
    "X_e3fp=X_all.iloc[:,e3fp_list]\n",
    "\n",
    "# CTD data, [:, 26106:32898 ], 6792 columns\n",
    "ctd_list=list(range(26106,32898))\n",
    "X_ctd=X_all.iloc[:,ctd_list]"
   ]
  },
  {
   "cell_type": "code",
   "execution_count": 7,
   "id": "173dae16-e773-4398-838b-cba7c7067973",
   "metadata": {
    "tags": []
   },
   "outputs": [
    {
     "name": "stdout",
     "output_type": "stream",
     "text": [
      "(1216, 27187)\n"
     ]
    }
   ],
   "source": [
    "# combination of features\n",
    "col_list = admet2_list + stitch_list + targets_list + circul_list + maccsk_list + pubchem_list + rdkit_list + cmax_ld50_list + dose_cal_list + ctd_list\n",
    "X_col_list = X_all.iloc[:,col_list]\n",
    "print(X_col_list.shape)"
   ]
  },
  {
   "cell_type": "markdown",
   "id": "5074a894-132e-4c39-89e4-6c5d9ff4a514",
   "metadata": {
    "tags": []
   },
   "source": [
    "### •  Construct labels (y)"
   ]
  },
  {
   "cell_type": "code",
   "execution_count": 8,
   "id": "8848d305-8c5f-451e-9f6f-283ad3ab7257",
   "metadata": {
    "tags": []
   },
   "outputs": [],
   "source": [
    "# reg label\n",
    "y_regress_path = '{}/y_regress.pkl'.format(data_path)\n",
    "y_regress = mm.read_pkl(y_regress_path)\n",
    "\n",
    "# class label\n",
    "y_class_path = '{}/y_class.pkl'.format(data_path)\n",
    "y_class = mm.read_pkl(y_class_path)\n"
   ]
  },
  {
   "cell_type": "markdown",
   "id": "c8b1ec33-5fb1-45b5-96e4-c8560202a7d1",
   "metadata": {},
   "source": [
    "## 3. Data check"
   ]
  },
  {
   "cell_type": "code",
   "execution_count": 9,
   "id": "5630c212-2f1e-47ac-a2ce-244df67f4e7f",
   "metadata": {
    "tags": []
   },
   "outputs": [
    {
     "name": "stdout",
     "output_type": "stream",
     "text": [
      "(1216, 27187) (1216,) (1216,)\n"
     ]
    }
   ],
   "source": [
    "print(X_col_list.shape,y_regress.shape,y_class.shape)"
   ]
  },
  {
   "cell_type": "code",
   "execution_count": 10,
   "id": "6466feb8-209d-469c-b560-8fb5b8b339a8",
   "metadata": {
    "tags": []
   },
   "outputs": [
    {
     "data": {
      "text/plain": [
       "(0, 0)"
      ]
     },
     "execution_count": 10,
     "metadata": {},
     "output_type": "execute_result"
    }
   ],
   "source": [
    "np.isinf(X_col_list).sum().sum(), X_col_list.isna().sum().sum()"
   ]
  },
  {
   "cell_type": "code",
   "execution_count": 11,
   "id": "43fdf77d-1522-4abe-8021-8f94e4847f5b",
   "metadata": {
    "tags": []
   },
   "outputs": [
    {
     "data": {
      "text/plain": [
       "(                 0\n",
       " count  1216.000000\n",
       " mean     -4.746616\n",
       " std       2.737119\n",
       " min     -18.173422\n",
       " 25%      -6.404368\n",
       " 50%      -4.369490\n",
       " 75%      -2.816797\n",
       " max       2.383944,\n",
       " 0    608\n",
       " 1    608\n",
       " dtype: int64)"
      ]
     },
     "execution_count": 11,
     "metadata": {},
     "output_type": "execute_result"
    }
   ],
   "source": [
    "pd.DataFrame(y_regress).describe(),pd.DataFrame(y_class).value_counts()"
   ]
  },
  {
   "cell_type": "code",
   "execution_count": 12,
   "id": "53263855-f363-4b3f-a9c0-f4c001eb4953",
   "metadata": {
    "tags": []
   },
   "outputs": [
    {
     "data": {
      "text/plain": [
       "(0    0\n",
       " dtype: int64,\n",
       " 0    0\n",
       " dtype: int64)"
      ]
     },
     "execution_count": 12,
     "metadata": {},
     "output_type": "execute_result"
    }
   ],
   "source": [
    " pd.DataFrame(y_regress).isna().sum(), pd.DataFrame(y_class).isna().sum()"
   ]
  },
  {
   "cell_type": "markdown",
   "id": "0b251eab-45f4-4d94-aef6-42b32a210d18",
   "metadata": {},
   "source": [
    "## 4. Model training"
   ]
  },
  {
   "cell_type": "code",
   "execution_count": 13,
   "id": "7575ba33-beff-421b-96e9-584e0bc15ddb",
   "metadata": {
    "tags": []
   },
   "outputs": [],
   "source": [
    "params_file = '{}/xgboostr_parameters.pkl'.format(data_path)\n",
    "xgbr_other_params = mm.read_pkl(params_file)"
   ]
  },
  {
   "cell_type": "code",
   "execution_count": 14,
   "id": "91ed2c77-f4a5-49f9-b227-0737ea786ee9",
   "metadata": {
    "tags": []
   },
   "outputs": [],
   "source": [
    "xgboostr_model = XGBRegressor(**xgbr_other_params)"
   ]
  },
  {
   "cell_type": "code",
   "execution_count": null,
   "id": "5f789dd9-466e-40a4-b50f-89ebae605765",
   "metadata": {},
   "outputs": [],
   "source": [
    "train_index_list,test_index_list,Y_test_list,Y_pre_list,df_2list=mm.cal_correlation('XGBoost',xgboostr_model,X_col_list,y_regress )"
   ]
  },
  {
   "cell_type": "code",
   "execution_count": 15,
   "id": "e3ae8925-e36c-4404-b971-a7d4d0ef64fd",
   "metadata": {
    "tags": []
   },
   "outputs": [],
   "source": [
    "\"\"\"Feature Importance Accumulation for 40-Fold Cross-Validation\"\"\"\n",
    "feature_imp_count_df_path = '{}/feature_imp_count_df.pkl'.format(data_path)\n",
    "feature_imp_count_df = pd.read_pickle(feature_imp_count_df_path)"
   ]
  },
  {
   "cell_type": "code",
   "execution_count": 16,
   "id": "bd31090d-1157-489f-acd5-35e696ff9a64",
   "metadata": {
    "tags": []
   },
   "outputs": [
    {
     "data": {
      "text/plain": [
       "(298, 43)"
      ]
     },
     "execution_count": 16,
     "metadata": {},
     "output_type": "execute_result"
    }
   ],
   "source": [
    "feature_imp_count_df[feature_imp_count_df['count']==40].shape"
   ]
  },
  {
   "cell_type": "code",
   "execution_count": 17,
   "id": "31e20b6a-76d5-4290-ba89-8118d9bcb666",
   "metadata": {
    "tags": []
   },
   "outputs": [],
   "source": [
    "feature_imp_df = feature_imp_count_df[feature_imp_count_df['importance_sum']>0].sort_values(by='importance_sum',ascending=False)"
   ]
  },
  {
   "cell_type": "code",
   "execution_count": null,
   "id": "fbc2b0ba-e2d7-4a24-92c1-87604f55586b",
   "metadata": {},
   "outputs": [],
   "source": [
    "# Add features one by one\n",
    "for i in range(1,298):\n",
    "    feature_imp_cols = list(feature_imp_df['var'])[:i]\n",
    "    print(' ===== feature_num:',i,' ==== ')\n",
    "    train_index_list3,test_index_list3,Y_test_list3,Y_pre_list3,df_2list3=mm.cal_correlation('XGBoost',xgboostr_model,X_col_list.loc[:,feature_imp_cols],y_regress )"
   ]
  },
  {
   "cell_type": "markdown",
   "id": "44f2a3d9-20df-40a9-b009-5601ec4eed81",
   "metadata": {},
   "source": [
    "### • Calculate pearson correlations among the top 241 features"
   ]
  },
  {
   "cell_type": "code",
   "execution_count": 18,
   "id": "bb4f8388-6653-411b-8f23-3aa725c3ac17",
   "metadata": {
    "tags": []
   },
   "outputs": [],
   "source": [
    "import pandas as pd\n",
    "feature_imp_count_df = pd.read_csv('../data/feature_imp_count_df.csv',index_col=0)\n",
    "feature_imp_count_list = list(feature_imp_count_df.iloc[:,0])\n",
    "feature241_list = list(feature_imp_count_df.iloc[:241,0])"
   ]
  },
  {
   "cell_type": "code",
   "execution_count": 19,
   "id": "6b1fcdb0-4b72-44ac-9e20-2400aace3bfe",
   "metadata": {
    "tags": []
   },
   "outputs": [],
   "source": [
    "X_imp_count_df = X_all.loc[:,feature_imp_count_list]\n",
    "X241_df = X_all.loc[:,feature241_list]"
   ]
  },
  {
   "cell_type": "code",
   "execution_count": 20,
   "id": "05de3d01-d841-4aef-ace4-b00657592b5d",
   "metadata": {
    "tags": []
   },
   "outputs": [
    {
     "data": {
      "text/html": [
       "<div>\n",
       "<style scoped>\n",
       "    .dataframe tbody tr th:only-of-type {\n",
       "        vertical-align: middle;\n",
       "    }\n",
       "\n",
       "    .dataframe tbody tr th {\n",
       "        vertical-align: top;\n",
       "    }\n",
       "\n",
       "    .dataframe thead th {\n",
       "        text-align: right;\n",
       "    }\n",
       "</style>\n",
       "<table border=\"1\" class=\"dataframe\">\n",
       "  <thead>\n",
       "    <tr style=\"text-align: right;\">\n",
       "      <th></th>\n",
       "      <th>FDAMDD</th>\n",
       "      <th>cal_Cmax_CL</th>\n",
       "      <th>circual_364</th>\n",
       "      <th>rdkit_125</th>\n",
       "      <th>pubchem_860</th>\n",
       "      <th>maccsk_128</th>\n",
       "      <th>dcmax_pred211115</th>\n",
       "      <th>rdkit_29</th>\n",
       "      <th>rdkit_122</th>\n",
       "      <th>9606.ENSP00000351686</th>\n",
       "      <th>...</th>\n",
       "      <th>rdkit_62</th>\n",
       "      <th>rdkit_121</th>\n",
       "      <th>circual_500</th>\n",
       "      <th>CL</th>\n",
       "      <th>circual_214</th>\n",
       "      <th>rdkit_88</th>\n",
       "      <th>pubchem_698</th>\n",
       "      <th>CYP2C19-sub</th>\n",
       "      <th>NR-AhR</th>\n",
       "      <th>rdkit_17</th>\n",
       "    </tr>\n",
       "  </thead>\n",
       "  <tbody>\n",
       "    <tr>\n",
       "      <th>FDAMDD</th>\n",
       "      <td>1.000000</td>\n",
       "      <td>0.005976</td>\n",
       "      <td>0.135491</td>\n",
       "      <td>-0.073477</td>\n",
       "      <td>0.293821</td>\n",
       "      <td>0.334256</td>\n",
       "      <td>0.011055</td>\n",
       "      <td>0.248357</td>\n",
       "      <td>0.275006</td>\n",
       "      <td>-0.143965</td>\n",
       "      <td>...</td>\n",
       "      <td>-0.159276</td>\n",
       "      <td>0.439687</td>\n",
       "      <td>0.099342</td>\n",
       "      <td>0.209179</td>\n",
       "      <td>0.018811</td>\n",
       "      <td>0.071021</td>\n",
       "      <td>0.237130</td>\n",
       "      <td>0.310145</td>\n",
       "      <td>0.091696</td>\n",
       "      <td>-0.118820</td>\n",
       "    </tr>\n",
       "    <tr>\n",
       "      <th>cal_Cmax_CL</th>\n",
       "      <td>0.005976</td>\n",
       "      <td>1.000000</td>\n",
       "      <td>-0.018690</td>\n",
       "      <td>-0.019858</td>\n",
       "      <td>-0.017446</td>\n",
       "      <td>0.011518</td>\n",
       "      <td>0.508063</td>\n",
       "      <td>-0.010138</td>\n",
       "      <td>-0.003145</td>\n",
       "      <td>-0.011737</td>\n",
       "      <td>...</td>\n",
       "      <td>0.001589</td>\n",
       "      <td>0.028049</td>\n",
       "      <td>-0.010738</td>\n",
       "      <td>0.016924</td>\n",
       "      <td>-0.027020</td>\n",
       "      <td>0.012047</td>\n",
       "      <td>-0.045683</td>\n",
       "      <td>0.043937</td>\n",
       "      <td>0.025553</td>\n",
       "      <td>0.010943</td>\n",
       "    </tr>\n",
       "    <tr>\n",
       "      <th>circual_364</th>\n",
       "      <td>0.135491</td>\n",
       "      <td>-0.018690</td>\n",
       "      <td>1.000000</td>\n",
       "      <td>0.368215</td>\n",
       "      <td>0.271231</td>\n",
       "      <td>0.233910</td>\n",
       "      <td>-0.014981</td>\n",
       "      <td>0.393703</td>\n",
       "      <td>0.359528</td>\n",
       "      <td>-0.016646</td>\n",
       "      <td>...</td>\n",
       "      <td>-0.127755</td>\n",
       "      <td>-0.058770</td>\n",
       "      <td>0.026002</td>\n",
       "      <td>-0.040398</td>\n",
       "      <td>0.076693</td>\n",
       "      <td>0.043463</td>\n",
       "      <td>0.222479</td>\n",
       "      <td>-0.014696</td>\n",
       "      <td>-0.097533</td>\n",
       "      <td>-0.114575</td>\n",
       "    </tr>\n",
       "    <tr>\n",
       "      <th>rdkit_125</th>\n",
       "      <td>-0.073477</td>\n",
       "      <td>-0.019858</td>\n",
       "      <td>0.368215</td>\n",
       "      <td>1.000000</td>\n",
       "      <td>0.140509</td>\n",
       "      <td>0.002015</td>\n",
       "      <td>-0.015738</td>\n",
       "      <td>0.321142</td>\n",
       "      <td>0.282422</td>\n",
       "      <td>0.148934</td>\n",
       "      <td>...</td>\n",
       "      <td>-0.112827</td>\n",
       "      <td>-0.466372</td>\n",
       "      <td>-0.067641</td>\n",
       "      <td>-0.183995</td>\n",
       "      <td>-0.097761</td>\n",
       "      <td>-0.113042</td>\n",
       "      <td>0.036821</td>\n",
       "      <td>-0.162566</td>\n",
       "      <td>-0.156256</td>\n",
       "      <td>-0.022131</td>\n",
       "    </tr>\n",
       "    <tr>\n",
       "      <th>pubchem_860</th>\n",
       "      <td>0.293821</td>\n",
       "      <td>-0.017446</td>\n",
       "      <td>0.271231</td>\n",
       "      <td>0.140509</td>\n",
       "      <td>1.000000</td>\n",
       "      <td>0.364770</td>\n",
       "      <td>-0.013985</td>\n",
       "      <td>0.250973</td>\n",
       "      <td>0.228164</td>\n",
       "      <td>-0.064972</td>\n",
       "      <td>...</td>\n",
       "      <td>-0.267873</td>\n",
       "      <td>0.244706</td>\n",
       "      <td>0.007237</td>\n",
       "      <td>0.120970</td>\n",
       "      <td>0.008009</td>\n",
       "      <td>0.102905</td>\n",
       "      <td>0.310914</td>\n",
       "      <td>0.132944</td>\n",
       "      <td>-0.158841</td>\n",
       "      <td>-0.123678</td>\n",
       "    </tr>\n",
       "    <tr>\n",
       "      <th>...</th>\n",
       "      <td>...</td>\n",
       "      <td>...</td>\n",
       "      <td>...</td>\n",
       "      <td>...</td>\n",
       "      <td>...</td>\n",
       "      <td>...</td>\n",
       "      <td>...</td>\n",
       "      <td>...</td>\n",
       "      <td>...</td>\n",
       "      <td>...</td>\n",
       "      <td>...</td>\n",
       "      <td>...</td>\n",
       "      <td>...</td>\n",
       "      <td>...</td>\n",
       "      <td>...</td>\n",
       "      <td>...</td>\n",
       "      <td>...</td>\n",
       "      <td>...</td>\n",
       "      <td>...</td>\n",
       "      <td>...</td>\n",
       "      <td>...</td>\n",
       "    </tr>\n",
       "    <tr>\n",
       "      <th>rdkit_88</th>\n",
       "      <td>0.071021</td>\n",
       "      <td>0.012047</td>\n",
       "      <td>0.043463</td>\n",
       "      <td>-0.113042</td>\n",
       "      <td>0.102905</td>\n",
       "      <td>0.191575</td>\n",
       "      <td>-0.020406</td>\n",
       "      <td>0.308225</td>\n",
       "      <td>0.321636</td>\n",
       "      <td>-0.125191</td>\n",
       "      <td>...</td>\n",
       "      <td>0.158267</td>\n",
       "      <td>0.252049</td>\n",
       "      <td>0.235297</td>\n",
       "      <td>0.046866</td>\n",
       "      <td>-0.033869</td>\n",
       "      <td>1.000000</td>\n",
       "      <td>0.055429</td>\n",
       "      <td>-0.004627</td>\n",
       "      <td>-0.011189</td>\n",
       "      <td>-0.030637</td>\n",
       "    </tr>\n",
       "    <tr>\n",
       "      <th>pubchem_698</th>\n",
       "      <td>0.237130</td>\n",
       "      <td>-0.045683</td>\n",
       "      <td>0.222479</td>\n",
       "      <td>0.036821</td>\n",
       "      <td>0.310914</td>\n",
       "      <td>0.204344</td>\n",
       "      <td>-0.036503</td>\n",
       "      <td>0.350531</td>\n",
       "      <td>0.353897</td>\n",
       "      <td>-0.124193</td>\n",
       "      <td>...</td>\n",
       "      <td>-0.322185</td>\n",
       "      <td>0.361814</td>\n",
       "      <td>0.088106</td>\n",
       "      <td>0.148575</td>\n",
       "      <td>0.085519</td>\n",
       "      <td>0.055429</td>\n",
       "      <td>1.000000</td>\n",
       "      <td>0.074874</td>\n",
       "      <td>0.145747</td>\n",
       "      <td>-0.050240</td>\n",
       "    </tr>\n",
       "    <tr>\n",
       "      <th>CYP2C19-sub</th>\n",
       "      <td>0.310145</td>\n",
       "      <td>0.043937</td>\n",
       "      <td>-0.014696</td>\n",
       "      <td>-0.162566</td>\n",
       "      <td>0.132944</td>\n",
       "      <td>0.248749</td>\n",
       "      <td>0.012474</td>\n",
       "      <td>0.048338</td>\n",
       "      <td>0.065015</td>\n",
       "      <td>-0.160317</td>\n",
       "      <td>...</td>\n",
       "      <td>-0.140175</td>\n",
       "      <td>0.417420</td>\n",
       "      <td>0.119161</td>\n",
       "      <td>0.318360</td>\n",
       "      <td>0.114546</td>\n",
       "      <td>-0.004627</td>\n",
       "      <td>0.074874</td>\n",
       "      <td>1.000000</td>\n",
       "      <td>-0.069591</td>\n",
       "      <td>-0.091462</td>\n",
       "    </tr>\n",
       "    <tr>\n",
       "      <th>NR-AhR</th>\n",
       "      <td>0.091696</td>\n",
       "      <td>0.025553</td>\n",
       "      <td>-0.097533</td>\n",
       "      <td>-0.156256</td>\n",
       "      <td>-0.158841</td>\n",
       "      <td>-0.109305</td>\n",
       "      <td>0.063751</td>\n",
       "      <td>0.051852</td>\n",
       "      <td>0.105243</td>\n",
       "      <td>-0.082576</td>\n",
       "      <td>...</td>\n",
       "      <td>0.002306</td>\n",
       "      <td>0.225188</td>\n",
       "      <td>-0.054775</td>\n",
       "      <td>0.058703</td>\n",
       "      <td>0.007000</td>\n",
       "      <td>-0.011189</td>\n",
       "      <td>0.145747</td>\n",
       "      <td>-0.069591</td>\n",
       "      <td>1.000000</td>\n",
       "      <td>0.078594</td>\n",
       "    </tr>\n",
       "    <tr>\n",
       "      <th>rdkit_17</th>\n",
       "      <td>-0.118820</td>\n",
       "      <td>0.010943</td>\n",
       "      <td>-0.114575</td>\n",
       "      <td>-0.022131</td>\n",
       "      <td>-0.123678</td>\n",
       "      <td>-0.144240</td>\n",
       "      <td>0.016128</td>\n",
       "      <td>0.101909</td>\n",
       "      <td>0.080044</td>\n",
       "      <td>-0.060949</td>\n",
       "      <td>...</td>\n",
       "      <td>0.022867</td>\n",
       "      <td>0.080440</td>\n",
       "      <td>-0.069790</td>\n",
       "      <td>-0.205914</td>\n",
       "      <td>-0.040299</td>\n",
       "      <td>-0.030637</td>\n",
       "      <td>-0.050240</td>\n",
       "      <td>-0.091462</td>\n",
       "      <td>0.078594</td>\n",
       "      <td>1.000000</td>\n",
       "    </tr>\n",
       "  </tbody>\n",
       "</table>\n",
       "<p>241 rows × 241 columns</p>\n",
       "</div>"
      ],
      "text/plain": [
       "               FDAMDD  cal_Cmax_CL  circual_364  rdkit_125  pubchem_860  \\\n",
       "FDAMDD       1.000000     0.005976     0.135491  -0.073477     0.293821   \n",
       "cal_Cmax_CL  0.005976     1.000000    -0.018690  -0.019858    -0.017446   \n",
       "circual_364  0.135491    -0.018690     1.000000   0.368215     0.271231   \n",
       "rdkit_125   -0.073477    -0.019858     0.368215   1.000000     0.140509   \n",
       "pubchem_860  0.293821    -0.017446     0.271231   0.140509     1.000000   \n",
       "...               ...          ...          ...        ...          ...   \n",
       "rdkit_88     0.071021     0.012047     0.043463  -0.113042     0.102905   \n",
       "pubchem_698  0.237130    -0.045683     0.222479   0.036821     0.310914   \n",
       "CYP2C19-sub  0.310145     0.043937    -0.014696  -0.162566     0.132944   \n",
       "NR-AhR       0.091696     0.025553    -0.097533  -0.156256    -0.158841   \n",
       "rdkit_17    -0.118820     0.010943    -0.114575  -0.022131    -0.123678   \n",
       "\n",
       "             maccsk_128  dcmax_pred211115  rdkit_29  rdkit_122  \\\n",
       "FDAMDD         0.334256          0.011055  0.248357   0.275006   \n",
       "cal_Cmax_CL    0.011518          0.508063 -0.010138  -0.003145   \n",
       "circual_364    0.233910         -0.014981  0.393703   0.359528   \n",
       "rdkit_125      0.002015         -0.015738  0.321142   0.282422   \n",
       "pubchem_860    0.364770         -0.013985  0.250973   0.228164   \n",
       "...                 ...               ...       ...        ...   \n",
       "rdkit_88       0.191575         -0.020406  0.308225   0.321636   \n",
       "pubchem_698    0.204344         -0.036503  0.350531   0.353897   \n",
       "CYP2C19-sub    0.248749          0.012474  0.048338   0.065015   \n",
       "NR-AhR        -0.109305          0.063751  0.051852   0.105243   \n",
       "rdkit_17      -0.144240          0.016128  0.101909   0.080044   \n",
       "\n",
       "             9606.ENSP00000351686  ...  rdkit_62  rdkit_121  circual_500  \\\n",
       "FDAMDD                  -0.143965  ... -0.159276   0.439687     0.099342   \n",
       "cal_Cmax_CL             -0.011737  ...  0.001589   0.028049    -0.010738   \n",
       "circual_364             -0.016646  ... -0.127755  -0.058770     0.026002   \n",
       "rdkit_125                0.148934  ... -0.112827  -0.466372    -0.067641   \n",
       "pubchem_860             -0.064972  ... -0.267873   0.244706     0.007237   \n",
       "...                           ...  ...       ...        ...          ...   \n",
       "rdkit_88                -0.125191  ...  0.158267   0.252049     0.235297   \n",
       "pubchem_698             -0.124193  ... -0.322185   0.361814     0.088106   \n",
       "CYP2C19-sub             -0.160317  ... -0.140175   0.417420     0.119161   \n",
       "NR-AhR                  -0.082576  ...  0.002306   0.225188    -0.054775   \n",
       "rdkit_17                -0.060949  ...  0.022867   0.080440    -0.069790   \n",
       "\n",
       "                   CL  circual_214  rdkit_88  pubchem_698  CYP2C19-sub  \\\n",
       "FDAMDD       0.209179     0.018811  0.071021     0.237130     0.310145   \n",
       "cal_Cmax_CL  0.016924    -0.027020  0.012047    -0.045683     0.043937   \n",
       "circual_364 -0.040398     0.076693  0.043463     0.222479    -0.014696   \n",
       "rdkit_125   -0.183995    -0.097761 -0.113042     0.036821    -0.162566   \n",
       "pubchem_860  0.120970     0.008009  0.102905     0.310914     0.132944   \n",
       "...               ...          ...       ...          ...          ...   \n",
       "rdkit_88     0.046866    -0.033869  1.000000     0.055429    -0.004627   \n",
       "pubchem_698  0.148575     0.085519  0.055429     1.000000     0.074874   \n",
       "CYP2C19-sub  0.318360     0.114546 -0.004627     0.074874     1.000000   \n",
       "NR-AhR       0.058703     0.007000 -0.011189     0.145747    -0.069591   \n",
       "rdkit_17    -0.205914    -0.040299 -0.030637    -0.050240    -0.091462   \n",
       "\n",
       "               NR-AhR  rdkit_17  \n",
       "FDAMDD       0.091696 -0.118820  \n",
       "cal_Cmax_CL  0.025553  0.010943  \n",
       "circual_364 -0.097533 -0.114575  \n",
       "rdkit_125   -0.156256 -0.022131  \n",
       "pubchem_860 -0.158841 -0.123678  \n",
       "...               ...       ...  \n",
       "rdkit_88    -0.011189 -0.030637  \n",
       "pubchem_698  0.145747 -0.050240  \n",
       "CYP2C19-sub -0.069591 -0.091462  \n",
       "NR-AhR       1.000000  0.078594  \n",
       "rdkit_17     0.078594  1.000000  \n",
       "\n",
       "[241 rows x 241 columns]"
      ]
     },
     "execution_count": 20,
     "metadata": {},
     "output_type": "execute_result"
    }
   ],
   "source": [
    "X241_corr = X241_df.corr()\n",
    "X241_corr"
   ]
  },
  {
   "cell_type": "markdown",
   "id": "fc71015e-a9fb-407e-b2ae-66f9e042c59d",
   "metadata": {
    "tags": []
   },
   "source": [
    "## 5. SVM comparison"
   ]
  },
  {
   "cell_type": "code",
   "execution_count": null,
   "id": "f28f0f6e-ce3f-4cad-a45b-ed8f439c98a4",
   "metadata": {},
   "outputs": [],
   "source": [
    "from sklearn.model_selection import RepeatedKFold,GridSearchCV,RandomizedSearchCV\n",
    "from xgboost import XGBRegressor #XGBoost\n",
    "from sklearn.metrics import mean_squared_error,mean_absolute_error\n",
    "from scipy import stats\n",
    "\n",
    "# cross validation with pearson correlation.\n",
    "def cal_correlation(reg_modelname,reg_model,X_all,y_all):\n",
    "    cv=RepeatedKFold(n_splits=40, n_repeats=1, random_state=12)\n",
    "    pearsonr_corr_list,mae_list,mse_list=[],[],[]\n",
    "    for (train_index, test_index) in cv.split(X_all):\n",
    "        if isinstance(X_all,pd.core.frame.DataFrame):\n",
    "            X_train=X_all.iloc[train_index,:]\n",
    "            X_test=X_all.iloc[test_index,:]\n",
    "        elif isinstance(X_all,np.ndarray):\n",
    "            X_train=X_all[train_index,:]\n",
    "            X_test=X_all[test_index,:]\n",
    "        Y_train=y_all[train_index].ravel()\n",
    "        Y_test=y_all[test_index].ravel()\n",
    "        reg_model.fit(X_train,Y_train)\n",
    "        Y_pre=reg_model.predict(X_test)\n",
    "        pearsonr_corr=stats.pearsonr(Y_pre,Y_test)[0]\n",
    "        pearsonr_corr_list.append(pearsonr_corr)\n",
    "        mae_list.append(mean_absolute_error(Y_pre,Y_test))\n",
    "        mse_list.append(mean_squared_error(Y_pre,Y_test))\n",
    "    mm.output_res(pearsonr_corr_list,'')\n",
    "    return np.mean(pearsonr_corr_list),np.mean(mae_list),np.mean(mse_list)\n",
    "\n",
    "from sklearn.svm import SVR\n",
    "svr_ = SVR()\n",
    "cal_correlation('XGBoost',svr_,X_col_list,y_regress )"
   ]
  },
  {
   "cell_type": "markdown",
   "id": "e9abaa42-351d-4666-b6a3-e0a80f4256fe",
   "metadata": {
    "tags": []
   },
   "source": [
    "## 6. Model tuning"
   ]
  },
  {
   "cell_type": "code",
   "execution_count": 21,
   "id": "397d89ee-44dd-483c-a335-27b644db98c6",
   "metadata": {},
   "outputs": [],
   "source": [
    "from sklearn.model_selection import RepeatedKFold\n",
    "def output_res(score_list,algorithm_name):\n",
    "    score_array=np.array(score_list)\n",
    "    avg_data=np.around(np.average(score_array),4)\n",
    "    std_data=np.around(np.std(score_array,ddof=1),4)\n",
    "    min_data=np.around(min(score_array),4)\n",
    "    max_data=np.around(max(score_array),4)\n",
    "    print(algorithm_name,\"  avg:\",avg_data,\"std:\",std_data,\" min:\",min_data,\" max:\",max_data)\n",
    "        \n",
    "from scipy import stats\n",
    "from sklearn.metrics import roc_auc_score,roc_curve,auc\n",
    "from sklearn import metrics\n",
    "def class_cal_correlation(reg_modelname,reg_model,X_all,y_all):\n",
    "    pearsonr_corr_list=[]\n",
    "    spearmanr_corr_list=[]\n",
    "    a_list = []\n",
    "    # lists storing the train set and test set for each iteration of cross validation.\n",
    "    train_index_list,test_index_list,Y_test_list,Y_pre_list,Y_proba_list=[],[],[],[],[] \n",
    "    df_2list=[] # stores the feature importance for each iteration of cross validation.\n",
    "    \n",
    "    cv=RepeatedKFold(n_splits=40, n_repeats=1, random_state=12)\n",
    "    for (train_index, test_index) in cv.split(X_all):\n",
    "        # \n",
    "        if isinstance(X_all,pd.core.frame.DataFrame):\n",
    "            X_train=X_all.iloc[train_index,:]\n",
    "            X_test=X_all.iloc[test_index,:]\n",
    "        elif isinstance(X_all,np.ndarray):\n",
    "            X_train=X_all[train_index,:]\n",
    "            X_test=X_all[test_index,:]\n",
    "        Y_train=y_all[train_index].ravel()\n",
    "        Y_test=y_all[test_index].ravel()\n",
    "        \n",
    "        reg_model.fit(X_train,Y_train)\n",
    "        Y_pre=reg_model.predict(X_test)\n",
    "        Y_proba = reg_model.predict_proba(X_test)\n",
    "        \n",
    "        \n",
    "        fpr, tpr, thresholds = roc_curve(Y_test,Y_proba[:,1])\n",
    "        roc_auc = auc(fpr, tpr)\n",
    "        pearsonr_corr_list.append(roc_auc)\n",
    "        \n",
    "    \n",
    "        # pearsonr_corr=metrics.roc_auc_score(Y_pre,Y_test)\n",
    "        # pearsonr_corr_list.append(pearsonr_corr)\n",
    "        \n",
    "        \n",
    "        spearmanr_corr=metrics.roc_auc_score(Y_pre,Y_test)\n",
    "        spearmanr_corr_list.append(spearmanr_corr)\n",
    "        \n",
    "        # generates a 2-dimensional list with a shape of (40, n)\n",
    "        train_index_list.append(train_index.tolist())\n",
    "        test_index_list.append(test_index.tolist())\n",
    "        Y_test_list.append(Y_test.tolist())\n",
    "        Y_pre_list.append(Y_pre.tolist())\n",
    "        Y_proba_list.append(Y_proba.tolist())\n",
    "        df_2list.append(reg_model.feature_importances_)\n",
    "    \n",
    "    output_res(pearsonr_corr_list,'')\n",
    "    print(np.round(pearsonr_corr_list,4))\n",
    "    return train_index_list,test_index_list,Y_test_list,Y_pre_list,Y_proba_list,df_2list"
   ]
  },
  {
   "cell_type": "code",
   "execution_count": 22,
   "id": "6a76317a-a6cc-4a33-9655-ee9d02f542fd",
   "metadata": {
    "tags": []
   },
   "outputs": [],
   "source": [
    "params_file = '{}/xgboostc_parameters.pkl'.format(data_path)\n",
    "xgbc_other_params = mm.read_pkl(params_file)"
   ]
  },
  {
   "cell_type": "code",
   "execution_count": 23,
   "id": "ca55e643-5e68-44ae-a1e6-08f586caa90b",
   "metadata": {
    "tags": []
   },
   "outputs": [],
   "source": [
    "xgboostc_model = XGBClassifier(**xgbc_other_params)"
   ]
  },
  {
   "cell_type": "code",
   "execution_count": null,
   "id": "e340f39a-ca80-40a2-914a-68d0e6d48ce1",
   "metadata": {},
   "outputs": [],
   "source": [
    "train_index_list,test_index_list,Y_test_list,Y_pre_list,df_2list = class_cal_correlation('XGBoost',xgboostc_model,X_col_list,y_class )"
   ]
  },
  {
   "cell_type": "markdown",
   "id": "5fb98d65-4f0d-4ca1-a517-77a933a40ee8",
   "metadata": {},
   "source": [
    "## 7. Independent test for CrossFuse-XGBoost"
   ]
  },
  {
   "cell_type": "code",
   "execution_count": 24,
   "id": "237140f4-8c17-45fd-871c-4f055d834495",
   "metadata": {
    "tags": []
   },
   "outputs": [],
   "source": [
    "\"\"\"load validation set\"\"\"\n",
    "validata_con_mix_df_path = '{}/external_validation_set.pkl'.format(data_path)\n",
    "validata_con_mix_df=pd.read_pickle(validata_con_mix_df_path)"
   ]
  },
  {
   "cell_type": "code",
   "execution_count": 184,
   "id": "85031a19-8115-41b3-99d4-de9b79104483",
   "metadata": {
    "tags": []
   },
   "outputs": [
    {
     "data": {
      "text/html": [
       "<style>#sk-container-id-4 {color: black;background-color: white;}#sk-container-id-4 pre{padding: 0;}#sk-container-id-4 div.sk-toggleable {background-color: white;}#sk-container-id-4 label.sk-toggleable__label {cursor: pointer;display: block;width: 100%;margin-bottom: 0;padding: 0.3em;box-sizing: border-box;text-align: center;}#sk-container-id-4 label.sk-toggleable__label-arrow:before {content: \"▸\";float: left;margin-right: 0.25em;color: #696969;}#sk-container-id-4 label.sk-toggleable__label-arrow:hover:before {color: black;}#sk-container-id-4 div.sk-estimator:hover label.sk-toggleable__label-arrow:before {color: black;}#sk-container-id-4 div.sk-toggleable__content {max-height: 0;max-width: 0;overflow: hidden;text-align: left;background-color: #f0f8ff;}#sk-container-id-4 div.sk-toggleable__content pre {margin: 0.2em;color: black;border-radius: 0.25em;background-color: #f0f8ff;}#sk-container-id-4 input.sk-toggleable__control:checked~div.sk-toggleable__content {max-height: 200px;max-width: 100%;overflow: auto;}#sk-container-id-4 input.sk-toggleable__control:checked~label.sk-toggleable__label-arrow:before {content: \"▾\";}#sk-container-id-4 div.sk-estimator input.sk-toggleable__control:checked~label.sk-toggleable__label {background-color: #d4ebff;}#sk-container-id-4 div.sk-label input.sk-toggleable__control:checked~label.sk-toggleable__label {background-color: #d4ebff;}#sk-container-id-4 input.sk-hidden--visually {border: 0;clip: rect(1px 1px 1px 1px);clip: rect(1px, 1px, 1px, 1px);height: 1px;margin: -1px;overflow: hidden;padding: 0;position: absolute;width: 1px;}#sk-container-id-4 div.sk-estimator {font-family: monospace;background-color: #f0f8ff;border: 1px dotted black;border-radius: 0.25em;box-sizing: border-box;margin-bottom: 0.5em;}#sk-container-id-4 div.sk-estimator:hover {background-color: #d4ebff;}#sk-container-id-4 div.sk-parallel-item::after {content: \"\";width: 100%;border-bottom: 1px solid gray;flex-grow: 1;}#sk-container-id-4 div.sk-label:hover label.sk-toggleable__label {background-color: #d4ebff;}#sk-container-id-4 div.sk-serial::before {content: \"\";position: absolute;border-left: 1px solid gray;box-sizing: border-box;top: 0;bottom: 0;left: 50%;z-index: 0;}#sk-container-id-4 div.sk-serial {display: flex;flex-direction: column;align-items: center;background-color: white;padding-right: 0.2em;padding-left: 0.2em;position: relative;}#sk-container-id-4 div.sk-item {position: relative;z-index: 1;}#sk-container-id-4 div.sk-parallel {display: flex;align-items: stretch;justify-content: center;background-color: white;position: relative;}#sk-container-id-4 div.sk-item::before, #sk-container-id-4 div.sk-parallel-item::before {content: \"\";position: absolute;border-left: 1px solid gray;box-sizing: border-box;top: 0;bottom: 0;left: 50%;z-index: -1;}#sk-container-id-4 div.sk-parallel-item {display: flex;flex-direction: column;z-index: 1;position: relative;background-color: white;}#sk-container-id-4 div.sk-parallel-item:first-child::after {align-self: flex-end;width: 50%;}#sk-container-id-4 div.sk-parallel-item:last-child::after {align-self: flex-start;width: 50%;}#sk-container-id-4 div.sk-parallel-item:only-child::after {width: 0;}#sk-container-id-4 div.sk-dashed-wrapped {border: 1px dashed gray;margin: 0 0.4em 0.5em 0.4em;box-sizing: border-box;padding-bottom: 0.4em;background-color: white;}#sk-container-id-4 div.sk-label label {font-family: monospace;font-weight: bold;display: inline-block;line-height: 1.2em;}#sk-container-id-4 div.sk-label-container {text-align: center;}#sk-container-id-4 div.sk-container {/* jupyter's `normalize.less` sets `[hidden] { display: none; }` but bootstrap.min.css set `[hidden] { display: none !important; }` so we also need the `!important` here to be able to override the default hidden behavior on the sphinx rendered scikit-learn.org. See: https://github.com/scikit-learn/scikit-learn/issues/21755 */display: inline-block !important;position: relative;}#sk-container-id-4 div.sk-text-repr-fallback {display: none;}</style><div id=\"sk-container-id-4\" class=\"sk-top-container\"><div class=\"sk-text-repr-fallback\"><pre>XGBRegressor(base_score=None, booster=&#x27;gbtree&#x27;, callbacks=None,\n",
       "             colsample_bylevel=1, colsample_bynode=1, colsample_bytree=0.61,\n",
       "             early_stopping_rounds=None, enable_categorical=False,\n",
       "             eval_metric=None, feature_types=None, gamma=1.16, gpu_id=None,\n",
       "             grow_policy=None, importance_type=&#x27;gain&#x27;,\n",
       "             interaction_constraints=None, learning_rate=0.022, max_bin=None,\n",
       "             max_cat_threshold=None, max_cat_to_onehot=None, max_delta_step=0,\n",
       "             max_depth=7, max_leaves=None, min_child_weight=12, missing=nan,\n",
       "             monotone_constraints=None, n_estimators=1270, n_jobs=32,\n",
       "             num_parallel_tree=1, predictor=None, random_state=17, ...)</pre><b>In a Jupyter environment, please rerun this cell to show the HTML representation or trust the notebook. <br />On GitHub, the HTML representation is unable to render, please try loading this page with nbviewer.org.</b></div><div class=\"sk-container\" hidden><div class=\"sk-item\"><div class=\"sk-estimator sk-toggleable\"><input class=\"sk-toggleable__control sk-hidden--visually\" id=\"sk-estimator-id-4\" type=\"checkbox\" checked><label for=\"sk-estimator-id-4\" class=\"sk-toggleable__label sk-toggleable__label-arrow\">XGBRegressor</label><div class=\"sk-toggleable__content\"><pre>XGBRegressor(base_score=None, booster=&#x27;gbtree&#x27;, callbacks=None,\n",
       "             colsample_bylevel=1, colsample_bynode=1, colsample_bytree=0.61,\n",
       "             early_stopping_rounds=None, enable_categorical=False,\n",
       "             eval_metric=None, feature_types=None, gamma=1.16, gpu_id=None,\n",
       "             grow_policy=None, importance_type=&#x27;gain&#x27;,\n",
       "             interaction_constraints=None, learning_rate=0.022, max_bin=None,\n",
       "             max_cat_threshold=None, max_cat_to_onehot=None, max_delta_step=0,\n",
       "             max_depth=7, max_leaves=None, min_child_weight=12, missing=nan,\n",
       "             monotone_constraints=None, n_estimators=1270, n_jobs=32,\n",
       "             num_parallel_tree=1, predictor=None, random_state=17, ...)</pre></div></div></div></div></div>"
      ],
      "text/plain": [
       "XGBRegressor(base_score=None, booster='gbtree', callbacks=None,\n",
       "             colsample_bylevel=1, colsample_bynode=1, colsample_bytree=0.61,\n",
       "             early_stopping_rounds=None, enable_categorical=False,\n",
       "             eval_metric=None, feature_types=None, gamma=1.16, gpu_id=None,\n",
       "             grow_policy=None, importance_type='gain',\n",
       "             interaction_constraints=None, learning_rate=0.022, max_bin=None,\n",
       "             max_cat_threshold=None, max_cat_to_onehot=None, max_delta_step=0,\n",
       "             max_depth=7, max_leaves=None, min_child_weight=12, missing=nan,\n",
       "             monotone_constraints=None, n_estimators=1270, n_jobs=32,\n",
       "             num_parallel_tree=1, predictor=None, random_state=17, ...)"
      ]
     },
     "execution_count": 184,
     "metadata": {},
     "output_type": "execute_result"
    }
   ],
   "source": [
    "X241_df = X_all.loc[:,feature241_list]\n",
    "xgboostr_model.fit(X241_df,y_regress)"
   ]
  },
  {
   "cell_type": "code",
   "execution_count": 132,
   "id": "1d83dd83-bbb8-47b4-830b-d87dfddf6066",
   "metadata": {
    "tags": []
   },
   "outputs": [],
   "source": [
    "validata_241df = validata_con_mix_df.loc[:,feature241_list]\n",
    "y_val_pre=xgboostr_model.predict(validata_241df)\n",
    "validata_con_mix_df['y_pre'] = y_val_pre"
   ]
  },
  {
   "cell_type": "code",
   "execution_count": 67,
   "id": "af92feb7-d289-429e-b090-5085e15e4d76",
   "metadata": {
    "tags": []
   },
   "outputs": [
    {
     "data": {
      "text/plain": [
       "PearsonRResult(statistic=0.6295470850170055, pvalue=2.872884864935842e-17)"
      ]
     },
     "execution_count": 67,
     "metadata": {},
     "output_type": "execute_result"
    }
   ],
   "source": [
    "from scipy import stats \n",
    "stats.pearsonr(np.log(validata_con_mix_df.iloc[:,5]),validata_con_mix_df['y_pre'])"
   ]
  }
 ],
 "metadata": {
  "kernelspec": {
   "display_name": "Python 3 (ipykernel)",
   "language": "python",
   "name": "python3"
  },
  "language_info": {
   "codemirror_mode": {
    "name": "ipython",
    "version": 3
   },
   "file_extension": ".py",
   "mimetype": "text/x-python",
   "name": "python",
   "nbconvert_exporter": "python",
   "pygments_lexer": "ipython3",
   "version": "3.11.3"
  }
 },
 "nbformat": 4,
 "nbformat_minor": 5
}
