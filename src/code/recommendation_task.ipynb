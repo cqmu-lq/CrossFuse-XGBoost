{
 "cells": [
  {
   "cell_type": "markdown",
   "id": "06bc702c-4dec-4b8c-82ec-0938efded9ba",
   "metadata": {},
   "source": [
    "# Surprise lgorithm\n",
    "&ensp; &ensp; The training set and the test set both have three columns. The first column is 'user,' the second column is 'item,' and the third column is 'rating.' Each row represents the rating given by a user to an item.  \n",
    "  \n",
    "&ensp; &ensp; In this selected dataset, the range of values for both user and item is [1,40], and the range for rating is [1,5]. The chosen recommendation algorithms include SVD and SlopeOne. Here are the results:"
   ]
  },
  {
   "cell_type": "markdown",
   "id": "46111cae-0300-44c8-808b-a43f9aa47998",
   "metadata": {
    "tags": []
   },
   "source": [
    "### Load environment"
   ]
  },
  {
   "cell_type": "code",
   "execution_count": 118,
   "id": "c6924ac5-ec45-4be5-b4b2-8db1051c0d5e",
   "metadata": {
    "tags": []
   },
   "outputs": [],
   "source": [
    "from surprise import Dataset, Reader, SVD, SlopeOne"
   ]
  },
  {
   "cell_type": "markdown",
   "id": "6ac66ea3-a683-480d-bd17-70218cff9806",
   "metadata": {
    "tags": []
   },
   "source": [
    "### Read data"
   ]
  },
  {
   "cell_type": "code",
   "execution_count": 13,
   "id": "526d9a8b-68cd-4106-908c-830b912d2197",
   "metadata": {
    "tags": []
   },
   "outputs": [],
   "source": [
    "# Specify the file paths\n",
    "train_file_path = \"../data/surprise_train.csv\"\n",
    "test_file_path = \"../data/surprise_test.csv\"\n",
    "\n",
    "# Define the reader\n",
    "reader = Reader(line_format=\"user item rating\", sep=\",\")\n",
    "\n",
    "# Load the training data\n",
    "train_data = Dataset.load_from_file(train_file_path, reader=reader)\n",
    "trainset = train_data.build_full_trainset()"
   ]
  },
  {
   "cell_type": "markdown",
   "id": "2a7de320-746d-4c89-b177-7f50cf845828",
   "metadata": {
    "tags": []
   },
   "source": [
    "### SVD Model"
   ]
  },
  {
   "cell_type": "code",
   "execution_count": 14,
   "id": "4a8804de-fefb-41f6-85c1-408fead09fb2",
   "metadata": {
    "tags": []
   },
   "outputs": [
    {
     "name": "stdout",
     "output_type": "stream",
     "text": [
      "user: 1          item: 15         r_ui = 3.00   est = 2.88   {'was_impossible': False}\n",
      "user: 1          item: 25         r_ui = 5.00   est = 2.94   {'was_impossible': False}\n",
      "user: 39         item: 29         r_ui = 5.00   est = 2.58   {'was_impossible': False}\n",
      "user: 10         item: 2          r_ui = 1.00   est = 3.89   {'was_impossible': False}\n",
      "user: 19         item: 21         r_ui = 2.00   est = 2.49   {'was_impossible': False}\n"
     ]
    }
   ],
   "source": [
    "# Create and fit the SVD model\n",
    "svd_model = SVD()\n",
    "svd_model.fit(trainset)\n",
    "\n",
    "# Load the test data\n",
    "test_data = Dataset.load_from_file(test_file_path, reader=reader)\n",
    "testset = test_data.build_full_trainset().build_testset()\n",
    "\n",
    "# Make predictions on the test set\n",
    "predictions = svd_model.test(testset)\n",
    "\n",
    "# Print example predictions\n",
    "for prediction in predictions[:5]:\n",
    "    print(prediction)"
   ]
  },
  {
   "cell_type": "markdown",
   "id": "1a440541-bf38-4218-9627-e425b8533c75",
   "metadata": {},
   "source": [
    "### SlopeOne Model"
   ]
  },
  {
   "cell_type": "code",
   "execution_count": 15,
   "id": "e93876c7-d5bc-4d09-98f0-70087d630d5c",
   "metadata": {
    "tags": []
   },
   "outputs": [
    {
     "name": "stdout",
     "output_type": "stream",
     "text": [
      "user: 1          item: 15         r_ui = 3.00   est = 2.92   {'was_impossible': False}\n",
      "user: 1          item: 25         r_ui = 5.00   est = 2.67   {'was_impossible': False}\n",
      "user: 39         item: 29         r_ui = 5.00   est = 2.58   {'was_impossible': False}\n",
      "user: 10         item: 2          r_ui = 1.00   est = 4.83   {'was_impossible': False}\n",
      "user: 19         item: 21         r_ui = 2.00   est = 1.00   {'was_impossible': False}\n"
     ]
    }
   ],
   "source": [
    "slopone_model = SlopeOne()\n",
    "slopone_model.fit(trainset)\n",
    "\n",
    "# Load the test data\n",
    "test_data = Dataset.load_from_file(test_file_path, reader=reader)\n",
    "testset = test_data.build_full_trainset().build_testset()\n",
    "\n",
    "# Make predictions on the test set\n",
    "predictions = slopone_model.test(testset)\n",
    "\n",
    "# Print example predictions\n",
    "for prediction in predictions[:5]:\n",
    "    print(prediction)"
   ]
  },
  {
   "cell_type": "markdown",
   "id": "a0c81363-79d4-4fbe-b0a4-a8340b996ef5",
   "metadata": {},
   "source": [
    "### Summarize\n",
    "&ensp; &ensp; In the methods mentioned above, the 'line_format' parameter of the Reader function only accepts 'user item rating' and does not accept input of additional features. (Refer to Surprise’ documentation: https://surprise.readthedocs.io/en/stable/reader.html?highlight=line_format)\n",
    "\n",
    "&ensp; &ensp; Therefore, the above recommendation algorithms cannot utilize multi-feature data of drugs and are not suitable for predicting dosage, as they are unable to incorporate additional feature data."
   ]
  },
  {
   "cell_type": "markdown",
   "id": "553b06d8-596d-4a7b-94a0-fba3ab49619c",
   "metadata": {},
   "source": [
    "# LightFM algorithm"
   ]
  },
  {
   "cell_type": "markdown",
   "id": "a4a39ecd-fa5b-4c06-9bfb-14c756b68946",
   "metadata": {},
   "source": [
    "### an example of movie recommendations\n",
    "&ensp; &ensp; lightfm_example.pkl is a set of demonstration data, used for movie recommendations based on user preferences. The first column is user_id, the second is movie_id, and columns three to nine are user features, including gender, age, occupation, movie_genre, movie_year, movie_director, movie_actor. The tenth column is rating."
   ]
  },
  {
   "cell_type": "code",
   "execution_count": 1,
   "id": "af9580a1-4082-40be-ab97-73b2994ea02b",
   "metadata": {
    "tags": []
   },
   "outputs": [],
   "source": [
    "import pandas as pd\n",
    "import numpy as np\n",
    "from lightfm.data import Dataset\n",
    "from scipy.sparse import coo_matrix\n",
    "from lightfm import LightFM\n",
    "df = pd.read_pickle('../data/lightfm_example.pkl')\n",
    "# Building user features\n",
    "dataset = Dataset()\n",
    "dataset.fit(users=df['user_id'].unique(),\n",
    "            items=df['movie_id'].unique(),\n",
    "            user_features=df['age'].astype(str).unique().tolist() \n",
    "            + df['gender'].unique().tolist() \n",
    "            + df['occupation'].unique().tolist() \n",
    "            + df['movie_genre'].unique().tolist()\n",
    "            + df['movie_year'].unique().tolist() \n",
    "            + df['movie_actor'].unique().tolist() )\n",
    "\n",
    "# Mapping user features\n",
    "user_features = dataset.build_user_features((row['user_id'], [str(row['age']), \n",
    "                                                              row['gender'], \n",
    "                                                              row['occupation'], \n",
    "                                                              row['movie_genre'], \n",
    "                                                              row['movie_year'], \n",
    "                                                              row['movie_actor']])\n",
    "                                            for idx, row in df.iterrows())\n"
   ]
  },
  {
   "cell_type": "code",
   "execution_count": 34,
   "id": "b4245ba7-3c5b-4eae-964c-53814057c41d",
   "metadata": {
    "tags": []
   },
   "outputs": [],
   "source": [
    "num_users = df['user_id'].nunique()\n",
    "num_items = df['movie_id'].nunique()\n",
    "\n",
    "# Assuming that user_id and item_id start from 1 in the dataset\n",
    "matrix = coo_matrix((df['rating'], (df['user_id'] - 1, df['movie_id'] - 1)), shape=(num_users, num_items))\n",
    "\n",
    "# Split the data into training and test sets\n",
    "# For simplicity, let's assume the first 80% as training and the remaining 20% as test\n",
    "\n",
    "num_ratings = matrix.nnz\n",
    "train_size = int(0.8 * num_ratings)\n",
    "\n",
    "train = coo_matrix((matrix.data[:train_size], (matrix.row[:train_size], matrix.col[:train_size])), shape=(num_users, num_items))\n",
    "test = coo_matrix((matrix.data[train_size:], (matrix.row[train_size:], matrix.col[train_size:])), shape=(num_users, num_items))"
   ]
  },
  {
   "cell_type": "code",
   "execution_count": 35,
   "id": "879969c3-8d22-4294-bf4a-92d46df8300e",
   "metadata": {
    "tags": []
   },
   "outputs": [
    {
     "data": {
      "text/plain": [
       "<lightfm.lightfm.LightFM at 0x7f113b86a6a0>"
      ]
     },
     "execution_count": 35,
     "metadata": {},
     "output_type": "execute_result"
    }
   ],
   "source": [
    "model = LightFM(learning_rate=0.05, loss='bpr')\n",
    "model.fit(train, user_features=user_features, epochs=10)"
   ]
  },
  {
   "cell_type": "code",
   "execution_count": 36,
   "id": "a17cb0ee-bee3-4538-a3ba-cddba8a7f6d9",
   "metadata": {
    "tags": []
   },
   "outputs": [
    {
     "data": {
      "text/plain": [
       "array([-0.03655178, -0.05357065,  0.07167926], dtype=float32)"
      ]
     },
     "execution_count": 36,
     "metadata": {},
     "output_type": "execute_result"
    }
   ],
   "source": [
    "user_ids = [1, 1, 2]\n",
    "item_ids = [1, 2, 3]\n",
    "model.predict(np.array(user_ids),np.array(item_ids))"
   ]
  },
  {
   "cell_type": "markdown",
   "id": "fcbb4e83-b000-4006-a6e7-f871d6c4351a",
   "metadata": {},
   "source": [
    "### Dose prediction\n",
    "&ensp; &ensp; Based on the above rules, we replace user_id with the drug's CID, movie_id with DosageID, and the features in columns three to nine with mw, polararea, complexity, xlogp, heavycnt, hbonddonor, hbondacc, and replace rating with Dose_mmol. All DosageIDs are 0, because in the example there is a many-to-many relationship between multiple users and multiple movies, but in this study, multiple cids correspond to the dose in a many-to-one relationship. The results are as follows:"
   ]
  },
  {
   "cell_type": "code",
   "execution_count": 2,
   "id": "f1700a6c-725a-48f0-9e8e-bbe2cfab3353",
   "metadata": {
    "tags": []
   },
   "outputs": [],
   "source": [
    "import pandas as pd\n",
    "from lightfm.data import Dataset\n",
    "df = pd.read_pickle('../data/lightfm_dosage.pkl')\n",
    "# Building user features\n",
    "dataset = Dataset()\n",
    "\n",
    "dataset.fit(users=df['CID'].unique(),\n",
    "            items=df['DosageID'].unique(),\n",
    "            user_features=df['mw'].astype(str).unique().tolist() \n",
    "            + df['polararea'].astype(str).unique().tolist() \n",
    "            + df['complexity'].astype(str).unique().tolist()  \n",
    "            + df['xlogp'].astype(str).unique().tolist() \n",
    "            + df['heavycnt'].astype(str).unique().tolist()\n",
    "            + df['hbonddonor'].astype(str).unique().tolist() \n",
    "            + df['hbondacc'].astype(str).unique().tolist()\n",
    "           )\n",
    "\n",
    "# Mapping user features\n",
    "user_features = dataset.build_user_features((row['CID'], [str(row['mw'])\n",
    "                                                          , str(row['polararea'])\n",
    "                                                          , str(row['complexity'])\n",
    "                                                          , str(row['xlogp'])\n",
    "                                                          , str(row['heavycnt'])\n",
    "                                                          , str(row['hbonddonor'])\n",
    "                                                          , str(row['hbondacc'])\n",
    "                                                          ])\n",
    "                                            for idx, row in df.iterrows())"
   ]
  },
  {
   "cell_type": "code",
   "execution_count": 95,
   "id": "68c719e4-885f-4149-82b7-e2161b185fc7",
   "metadata": {
    "tags": []
   },
   "outputs": [],
   "source": [
    "num_users = df['CID'].nunique()\n",
    "num_items = df['DosageID'].nunique()\n",
    "\n",
    "# Assuming that user_id and item_id start from 1 in the dataset\n",
    "matrix = coo_matrix((df['Dose_mmol'], (df['CID'] - 1, df['DosageID'] - 1)), shape=(num_users, num_items))\n",
    "\n",
    "# Split the data into training and test sets\n",
    "# For simplicity, let's assume the first 80% as training and the remaining 20% as test\n",
    "\n",
    "num_ratings = matrix.nnz\n",
    "train_size = int(0.8 * num_ratings)\n",
    "\n",
    "train = coo_matrix((matrix.data[:train_size], (matrix.row[:train_size], matrix.col[:train_size])), shape=(num_users, num_items))\n",
    "test = coo_matrix((matrix.data[train_size:], (matrix.row[train_size:], matrix.col[train_size:])), shape=(num_users, num_items))"
   ]
  },
  {
   "cell_type": "code",
   "execution_count": 96,
   "id": "1c7341ba-aece-4da9-ba9d-44c712087d9e",
   "metadata": {
    "tags": []
   },
   "outputs": [
    {
     "data": {
      "text/plain": [
       "<lightfm.lightfm.LightFM at 0x7f113ab998e0>"
      ]
     },
     "execution_count": 96,
     "metadata": {},
     "output_type": "execute_result"
    }
   ],
   "source": [
    "model = LightFM(learning_rate=0.05, loss='bpr')\n",
    "model.fit(train, user_features=user_features, epochs=10)"
   ]
  },
  {
   "cell_type": "code",
   "execution_count": 108,
   "id": "5c4651c9-de1e-4c59-be39-7cb27a4699aa",
   "metadata": {
    "tags": []
   },
   "outputs": [
    {
     "data": {
      "text/plain": [
       "array([-0.28663096, -0.34560135, -0.3711385 , -0.23588978], dtype=float32)"
      ]
     },
     "execution_count": 108,
     "metadata": {},
     "output_type": "execute_result"
    }
   ],
   "source": [
    "CID_list = [1,2,3,4]  # 0-based index\n",
    "Dose_mmol_list = [0,0,0,0]  # 0-based index\n",
    "predicted_rating = model.predict(CID_list, np.array(Dose_mmol_list),user_features=user_features)\n",
    "predicted_rating"
   ]
  },
  {
   "cell_type": "markdown",
   "id": "cefccf20-68a8-4e29-af71-7bac7b87f863",
   "metadata": {},
   "source": [
    "### Summarize\n",
    "&ensp; &ensp; It can be observed that all the results are negative. This is because the predictive scores generated by this algorithm are only used for ranking recommended items and cannot be used for other purposes. In LightFM, the positive or negative values of the scores represent the performance of recommended items relative to the average level, while the absolute values of the scores reflect the degree of user preference for the items."
   ]
  }
 ],
 "metadata": {
  "kernelspec": {
   "display_name": "py38_lq",
   "language": "python",
   "name": "py38_lq"
  },
  "language_info": {
   "codemirror_mode": {
    "name": "ipython",
    "version": 3
   },
   "file_extension": ".py",
   "mimetype": "text/x-python",
   "name": "python",
   "nbconvert_exporter": "python",
   "pygments_lexer": "ipython3",
   "version": "3.8.13"
  }
 },
 "nbformat": 4,
 "nbformat_minor": 5
}
